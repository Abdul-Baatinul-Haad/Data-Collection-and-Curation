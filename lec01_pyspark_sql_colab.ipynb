{
  "nbformat": 4,
  "nbformat_minor": 0,
  "metadata": {
    "colab": {
      "name": "lec01_pyspark_sql_colab.ipynb",
      "provenance": [],
      "collapsed_sections": []
    },
    "kernelspec": {
      "name": "python3",
      "display_name": "Python 3"
    },
    "language_info": {
      "name": "python"
    }
  },
  "cells": [
    {
      "cell_type": "code",
      "source": [
        "!apt-get update #update linux\n",
        "!apt-get install openjdk-8-jdk-headless -qq > /dev/null #download and install openjdk\n",
        "!wget -q http://archive.apache.org/dist/spark/spark-3.2.1/spark-3.2.1-bin-hadoop2.7.tgz #download spark binary (gunzip)\n",
        "!tar xf spark-3.2.1-bin-hadoop2.7.tgz #extract the spark package\n",
        "!pip install -q findspark #install the findspark package"
      ],
      "metadata": {
        "id": "znvn7k0fyjVx",
        "colab": {
          "base_uri": "https://localhost:8080/"
        },
        "outputId": "c24914e1-179e-4b4d-de51-62d93df824c5"
      },
      "execution_count": null,
      "outputs": [
        {
          "output_type": "stream",
          "name": "stdout",
          "text": [
            "\r0% [Working]\r            \rHit:1 http://archive.ubuntu.com/ubuntu bionic InRelease\n",
            "\r0% [Connecting to security.ubuntu.com (185.125.190.36)] [Waiting for headers] [\r                                                                               \rGet:2 http://archive.ubuntu.com/ubuntu bionic-updates InRelease [88.7 kB]\n",
            "\r                                                                               \rGet:3 https://cloud.r-project.org/bin/linux/ubuntu bionic-cran40/ InRelease [3,626 B]\n",
            "\r                                                                               \rHit:4 https://developer.download.nvidia.com/compute/cuda/repos/ubuntu1804/x86_64  InRelease\n",
            "\r0% [2 InRelease 15.6 kB/88.7 kB 18%] [Connecting to security.ubuntu.com (185.12\r0% [1 InRelease gpgv 242 kB] [2 InRelease 15.6 kB/88.7 kB 18%] [Connecting to s\r0% [1 InRelease gpgv 242 kB] [Waiting for headers] [Waiting for headers] [Waiti\r                                                                               \rGet:5 http://archive.ubuntu.com/ubuntu bionic-backports InRelease [74.6 kB]\n",
            "\r0% [1 InRelease gpgv 242 kB] [5 InRelease 17.1 kB/74.6 kB 23%] [Waiting for hea\r0% [1 InRelease gpgv 242 kB] [Waiting for headers] [Waiting for headers] [Waiti\r                                                                               \rIgn:6 https://developer.download.nvidia.com/compute/machine-learning/repos/ubuntu1804/x86_64  InRelease\n",
            "Hit:7 https://developer.download.nvidia.com/compute/machine-learning/repos/ubuntu1804/x86_64  Release\n",
            "Get:8 http://ppa.launchpad.net/c2d4u.team/c2d4u4.0+/ubuntu bionic InRelease [15.9 kB]\n",
            "Get:9 http://security.ubuntu.com/ubuntu bionic-security InRelease [88.7 kB]\n",
            "Hit:10 http://ppa.launchpad.net/cran/libgit2/ubuntu bionic InRelease\n",
            "Hit:11 http://ppa.launchpad.net/deadsnakes/ppa/ubuntu bionic InRelease\n",
            "Get:12 https://cloud.r-project.org/bin/linux/ubuntu bionic-cran40/ Packages [84.8 kB]\n",
            "Hit:13 http://ppa.launchpad.net/graphics-drivers/ppa/ubuntu bionic InRelease\n",
            "Get:14 http://archive.ubuntu.com/ubuntu bionic-updates/universe amd64 Packages [2,272 kB]\n",
            "Get:15 http://archive.ubuntu.com/ubuntu bionic-updates/main amd64 Packages [3,167 kB]\n",
            "Get:17 http://ppa.launchpad.net/c2d4u.team/c2d4u4.0+/ubuntu bionic/main Sources [1,953 kB]\n",
            "Get:18 http://security.ubuntu.com/ubuntu bionic-security/main amd64 Packages [2,733 kB]\n",
            "Get:19 http://security.ubuntu.com/ubuntu bionic-security/universe amd64 Packages [1,496 kB]\n",
            "Get:20 http://ppa.launchpad.net/c2d4u.team/c2d4u4.0+/ubuntu bionic/main amd64 Packages [1,001 kB]\n",
            "Fetched 13.0 MB in 3s (4,080 kB/s)\n",
            "Reading package lists... Done\n"
          ]
        }
      ]
    },
    {
      "cell_type": "code",
      "source": [
        "#set environment variables\n",
        "import os \n",
        "os.environ[\"JAVA_HOME\"] = \"/usr/lib/jvm/java-8-openjdk-amd64\"\n",
        "os.environ[\"SPARK_HOME\"] = \"/content/spark-3.2.1-bin-hadoop2.7\""
      ],
      "metadata": {
        "id": "JlLnD_tjmC27"
      },
      "execution_count": null,
      "outputs": []
    },
    {
      "cell_type": "code",
      "execution_count": null,
      "metadata": {
        "colab": {
          "base_uri": "https://localhost:8080/"
        },
        "id": "KfvlC_wUG5GW",
        "outputId": "d2f514e4-2dc5-4777-80f4-8fda799687ed"
      },
      "outputs": [
        {
          "output_type": "stream",
          "name": "stdout",
          "text": [
            "sample_data  spark-3.2.1-bin-hadoop2.7\tspark-3.2.1-bin-hadoop2.7.tgz\n"
          ]
        }
      ],
      "source": [
        "!ls #check directory"
      ]
    },
    {
      "cell_type": "code",
      "source": [
        "!ls sample_data #check directory under sample_data"
      ],
      "metadata": {
        "colab": {
          "base_uri": "https://localhost:8080/"
        },
        "id": "MeljcuSxHDGj",
        "outputId": "f12f7a53-b27e-4f11-c40d-541aa0df4782"
      },
      "execution_count": null,
      "outputs": [
        {
          "output_type": "stream",
          "name": "stdout",
          "text": [
            "anscombe.json\t\t      mnist_test.csv\n",
            "california_housing_test.csv   mnist_train_small.csv\n",
            "california_housing_train.csv  README.md\n"
          ]
        }
      ]
    },
    {
      "cell_type": "code",
      "source": [
        "import findspark\n",
        "findspark.init()\n",
        "from pyspark import SparkContext\n",
        "\n",
        "sc = SparkContext.getOrCreate()\n",
        "sc"
      ],
      "metadata": {
        "colab": {
          "base_uri": "https://localhost:8080/",
          "height": 197
        },
        "id": "PDtDnE43IcFW",
        "outputId": "2c1e4dc6-4f16-48aa-f2e7-d09cfc3af238"
      },
      "execution_count": null,
      "outputs": [
        {
          "output_type": "execute_result",
          "data": {
            "text/plain": [
              "<SparkContext master=local[*] appName=pyspark-shell>"
            ],
            "text/html": [
              "\n",
              "        <div>\n",
              "            <p><b>SparkContext</b></p>\n",
              "\n",
              "            <p><a href=\"http://6ef64d998f4f:4040\">Spark UI</a></p>\n",
              "\n",
              "            <dl>\n",
              "              <dt>Version</dt>\n",
              "                <dd><code>v3.2.1</code></dd>\n",
              "              <dt>Master</dt>\n",
              "                <dd><code>local[*]</code></dd>\n",
              "              <dt>AppName</dt>\n",
              "                <dd><code>pyspark-shell</code></dd>\n",
              "            </dl>\n",
              "        </div>\n",
              "        "
            ]
          },
          "metadata": {},
          "execution_count": 5
        }
      ]
    },
    {
      "cell_type": "code",
      "source": [
        "# import pyspark\n",
        "from pyspark.sql import SparkSession\n",
        "spark = SparkSession.builder.getOrCreate() \n",
        "\n",
        "# File location and type\n",
        "path = 'sample_data/california_housing_train.csv'\n",
        "file_type = \"csv\"\n",
        "\n",
        "# CSV options\n",
        "infer_schema = \"true\"\n",
        "first_row_is_header = \"true\"\n",
        "delimiter = \",\"\n",
        "\n",
        "# Import csv. The applied options are for CSV files. For other file types, these will be ignored.\n",
        "df = spark.read.format(file_type) \\\n",
        "  .option(\"inferSchema\", infer_schema) \\\n",
        "  .option(\"header\", first_row_is_header) \\\n",
        "  .option(\"sep\", delimiter) \\\n",
        "  .load(path)\n",
        "\n",
        "df.head() #first row object"
      ],
      "metadata": {
        "colab": {
          "base_uri": "https://localhost:8080/"
        },
        "id": "Empom_anLLtk",
        "outputId": "62050ac6-4663-440c-90e6-f78544329af5"
      },
      "execution_count": null,
      "outputs": [
        {
          "output_type": "execute_result",
          "data": {
            "text/plain": [
              "Row(longitude=-114.31, latitude=34.19, housing_median_age=15.0, total_rooms=5612.0, total_bedrooms=1283.0, population=1015.0, households=472.0, median_income=1.4936, median_house_value=66900.0)"
            ]
          },
          "metadata": {},
          "execution_count": 6
        }
      ]
    },
    {
      "cell_type": "code",
      "source": [
        "df.printSchema()"
      ],
      "metadata": {
        "colab": {
          "base_uri": "https://localhost:8080/"
        },
        "id": "IAu8_zbmJRw3",
        "outputId": "ef28c360-2f91-445e-be68-b2b5de6c25ed"
      },
      "execution_count": null,
      "outputs": [
        {
          "output_type": "stream",
          "name": "stdout",
          "text": [
            "root\n",
            " |-- longitude: double (nullable = true)\n",
            " |-- latitude: double (nullable = true)\n",
            " |-- housing_median_age: double (nullable = true)\n",
            " |-- total_rooms: double (nullable = true)\n",
            " |-- total_bedrooms: double (nullable = true)\n",
            " |-- population: double (nullable = true)\n",
            " |-- households: double (nullable = true)\n",
            " |-- median_income: double (nullable = true)\n",
            " |-- median_house_value: double (nullable = true)\n",
            "\n"
          ]
        }
      ]
    },
    {
      "cell_type": "code",
      "source": [
        "df.count()"
      ],
      "metadata": {
        "colab": {
          "base_uri": "https://localhost:8080/"
        },
        "id": "UQeHvrAze4LP",
        "outputId": "a2aedc4d-866e-4485-ce2a-6a1ad4694e37"
      },
      "execution_count": null,
      "outputs": [
        {
          "output_type": "execute_result",
          "data": {
            "text/plain": [
              "17000"
            ]
          },
          "metadata": {},
          "execution_count": 49
        }
      ]
    },
    {
      "cell_type": "code",
      "source": [
        "df.drop_duplicates().count()"
      ],
      "metadata": {
        "colab": {
          "base_uri": "https://localhost:8080/"
        },
        "id": "JYzmerydilXy",
        "outputId": "7435d484-a8cf-4d22-e8f0-6b2ca6b72df3"
      },
      "execution_count": null,
      "outputs": [
        {
          "output_type": "execute_result",
          "data": {
            "text/plain": [
              "17000"
            ]
          },
          "metadata": {},
          "execution_count": 54
        }
      ]
    },
    {
      "cell_type": "code",
      "source": [
        "# create a temporary view\n",
        "df.createOrReplaceTempView(\"california_housing_train\")"
      ],
      "metadata": {
        "id": "1Rp0jVknJwTJ"
      },
      "execution_count": null,
      "outputs": []
    },
    {
      "cell_type": "code",
      "source": [
        "df_sql = spark.sql(\"SELECT * FROM california_housing_train LIMIT 12\")\n",
        "df_sql.show()"
      ],
      "metadata": {
        "colab": {
          "base_uri": "https://localhost:8080/"
        },
        "id": "wGh71wUTRh2S",
        "outputId": "a39089bf-0a24-4bfe-ca58-0f47504f3c44"
      },
      "execution_count": null,
      "outputs": [
        {
          "output_type": "stream",
          "name": "stdout",
          "text": [
            "+---------+--------+------------------+-----------+--------------+----------+----------+-------------+------------------+\n",
            "|longitude|latitude|housing_median_age|total_rooms|total_bedrooms|population|households|median_income|median_house_value|\n",
            "+---------+--------+------------------+-----------+--------------+----------+----------+-------------+------------------+\n",
            "|  -114.31|   34.19|              15.0|     5612.0|        1283.0|    1015.0|     472.0|       1.4936|           66900.0|\n",
            "|  -114.47|    34.4|              19.0|     7650.0|        1901.0|    1129.0|     463.0|         1.82|           80100.0|\n",
            "|  -114.56|   33.69|              17.0|      720.0|         174.0|     333.0|     117.0|       1.6509|           85700.0|\n",
            "|  -114.57|   33.64|              14.0|     1501.0|         337.0|     515.0|     226.0|       3.1917|           73400.0|\n",
            "|  -114.57|   33.57|              20.0|     1454.0|         326.0|     624.0|     262.0|        1.925|           65500.0|\n",
            "|  -114.58|   33.63|              29.0|     1387.0|         236.0|     671.0|     239.0|       3.3438|           74000.0|\n",
            "|  -114.58|   33.61|              25.0|     2907.0|         680.0|    1841.0|     633.0|       2.6768|           82400.0|\n",
            "|  -114.59|   34.83|              41.0|      812.0|         168.0|     375.0|     158.0|       1.7083|           48500.0|\n",
            "|  -114.59|   33.61|              34.0|     4789.0|        1175.0|    3134.0|    1056.0|       2.1782|           58400.0|\n",
            "|   -114.6|   34.83|              46.0|     1497.0|         309.0|     787.0|     271.0|       2.1908|           48100.0|\n",
            "|   -114.6|   33.62|              16.0|     3741.0|         801.0|    2434.0|     824.0|       2.6797|           86500.0|\n",
            "|   -114.6|    33.6|              21.0|     1988.0|         483.0|    1182.0|     437.0|        1.625|           62000.0|\n",
            "+---------+--------+------------------+-----------+--------------+----------+----------+-------------+------------------+\n",
            "\n"
          ]
        }
      ]
    },
    {
      "cell_type": "code",
      "source": [
        "df_sql.count()"
      ],
      "metadata": {
        "colab": {
          "base_uri": "https://localhost:8080/"
        },
        "id": "d09pPOliMGTK",
        "outputId": "873ee1cd-d1c7-44c7-b73e-9d43f6eef52b"
      },
      "execution_count": null,
      "outputs": [
        {
          "output_type": "execute_result",
          "data": {
            "text/plain": [
              "12"
            ]
          },
          "metadata": {},
          "execution_count": 30
        }
      ]
    },
    {
      "cell_type": "code",
      "source": [
        "df_sql.take(5) #first 5 row objects"
      ],
      "metadata": {
        "colab": {
          "base_uri": "https://localhost:8080/"
        },
        "id": "pOhxmcjcsm-3",
        "outputId": "a2d77bac-c0d7-400b-cb31-ac1fdb9c7ed6"
      },
      "execution_count": null,
      "outputs": [
        {
          "output_type": "execute_result",
          "data": {
            "text/plain": [
              "[Row(longitude=-114.31, latitude=34.19, housing_median_age=15.0, total_rooms=5612.0, total_bedrooms=1283.0, population=1015.0, households=472.0, median_income=1.4936, median_house_value=66900.0),\n",
              " Row(longitude=-114.47, latitude=34.4, housing_median_age=19.0, total_rooms=7650.0, total_bedrooms=1901.0, population=1129.0, households=463.0, median_income=1.82, median_house_value=80100.0),\n",
              " Row(longitude=-114.56, latitude=33.69, housing_median_age=17.0, total_rooms=720.0, total_bedrooms=174.0, population=333.0, households=117.0, median_income=1.6509, median_house_value=85700.0),\n",
              " Row(longitude=-114.57, latitude=33.64, housing_median_age=14.0, total_rooms=1501.0, total_bedrooms=337.0, population=515.0, households=226.0, median_income=3.1917, median_house_value=73400.0),\n",
              " Row(longitude=-114.57, latitude=33.57, housing_median_age=20.0, total_rooms=1454.0, total_bedrooms=326.0, population=624.0, households=262.0, median_income=1.925, median_house_value=65500.0)]"
            ]
          },
          "metadata": {},
          "execution_count": 31
        }
      ]
    },
    {
      "cell_type": "code",
      "source": [
        "type(df.take(5))"
      ],
      "metadata": {
        "colab": {
          "base_uri": "https://localhost:8080/"
        },
        "id": "2CUntQu7Rsre",
        "outputId": "e9895c6a-c209-4f01-da4d-45b711ca2a28"
      },
      "execution_count": null,
      "outputs": [
        {
          "output_type": "execute_result",
          "data": {
            "text/plain": [
              "list"
            ]
          },
          "metadata": {},
          "execution_count": 32
        }
      ]
    },
    {
      "cell_type": "code",
      "source": [
        "df_sql = spark.sql(\"SELECT longitude, latitude, population, households FROM california_housing_train LIMIT 10\")\n",
        "df_sql.show()"
      ],
      "metadata": {
        "colab": {
          "base_uri": "https://localhost:8080/"
        },
        "id": "88CPzxrssjL3",
        "outputId": "2cd7faee-14c2-4794-c2c1-d63a28c6e665"
      },
      "execution_count": null,
      "outputs": [
        {
          "output_type": "stream",
          "name": "stdout",
          "text": [
            "+---------+--------+----------+----------+\n",
            "|longitude|latitude|population|households|\n",
            "+---------+--------+----------+----------+\n",
            "|  -114.31|   34.19|    1015.0|     472.0|\n",
            "|  -114.47|    34.4|    1129.0|     463.0|\n",
            "|  -114.56|   33.69|     333.0|     117.0|\n",
            "|  -114.57|   33.64|     515.0|     226.0|\n",
            "|  -114.57|   33.57|     624.0|     262.0|\n",
            "|  -114.58|   33.63|     671.0|     239.0|\n",
            "|  -114.58|   33.61|    1841.0|     633.0|\n",
            "|  -114.59|   34.83|     375.0|     158.0|\n",
            "|  -114.59|   33.61|    3134.0|    1056.0|\n",
            "|   -114.6|   34.83|     787.0|     271.0|\n",
            "+---------+--------+----------+----------+\n",
            "\n"
          ]
        }
      ]
    },
    {
      "cell_type": "code",
      "source": [
        "df_sql"
      ],
      "metadata": {
        "colab": {
          "base_uri": "https://localhost:8080/"
        },
        "id": "gU3g8SqJstB6",
        "outputId": "42ed2417-34b9-49c0-ce82-ddb5f60dae79"
      },
      "execution_count": null,
      "outputs": [
        {
          "output_type": "execute_result",
          "data": {
            "text/plain": [
              "DataFrame[longitude: double, latitude: double, population: double, households: double]"
            ]
          },
          "metadata": {},
          "execution_count": 34
        }
      ]
    },
    {
      "cell_type": "code",
      "source": [
        "# use sql aliases\n",
        "df_sql = spark.sql(\"SELECT longitude as longi, \\\n",
        "  latitude as lati, population as pop, \\\n",
        "  households as hh FROM california_housing_train LIMIT 10\")\n",
        "df_sql.show()"
      ],
      "metadata": {
        "colab": {
          "base_uri": "https://localhost:8080/"
        },
        "id": "e6_0VKKzJTuw",
        "outputId": "e0e2f6f1-33b0-44d9-be48-cb121cea492f"
      },
      "execution_count": null,
      "outputs": [
        {
          "output_type": "stream",
          "name": "stdout",
          "text": [
            "+-------+-----+------+------+\n",
            "|  longi| lati|   pop|    hh|\n",
            "+-------+-----+------+------+\n",
            "|-114.31|34.19|1015.0| 472.0|\n",
            "|-114.47| 34.4|1129.0| 463.0|\n",
            "|-114.56|33.69| 333.0| 117.0|\n",
            "|-114.57|33.64| 515.0| 226.0|\n",
            "|-114.57|33.57| 624.0| 262.0|\n",
            "|-114.58|33.63| 671.0| 239.0|\n",
            "|-114.58|33.61|1841.0| 633.0|\n",
            "|-114.59|34.83| 375.0| 158.0|\n",
            "|-114.59|33.61|3134.0|1056.0|\n",
            "| -114.6|34.83| 787.0| 271.0|\n",
            "+-------+-----+------+------+\n",
            "\n"
          ]
        }
      ]
    },
    {
      "cell_type": "code",
      "source": [
        "#filter by population  >= 10000\n",
        "df_sql = spark.sql(\"SELECT * FROM california_housing_train WHERE population  >= 10000\")\n",
        "df_sql.show()"
      ],
      "metadata": {
        "id": "JyBP6lsYsX5e",
        "colab": {
          "base_uri": "https://localhost:8080/"
        },
        "outputId": "f6c93268-a354-4711-aac0-4ba5c955eb18"
      },
      "execution_count": null,
      "outputs": [
        {
          "output_type": "stream",
          "name": "stdout",
          "text": [
            "+---------+--------+------------------+-----------+--------------+----------+----------+-------------+------------------+\n",
            "|longitude|latitude|housing_median_age|total_rooms|total_bedrooms|population|households|median_income|median_house_value|\n",
            "+---------+--------+------------------+-----------+--------------+----------+----------+-------------+------------------+\n",
            "|  -117.12|   33.52|               4.0|    30401.0|        4957.0|   13251.0|    4339.0|       4.5841|          212300.0|\n",
            "|  -117.42|   33.35|              14.0|    25135.0|        4819.0|   35682.0|    4769.0|       2.5729|          134400.0|\n",
            "|  -117.61|    34.1|               9.0|    18956.0|        4095.0|   10323.0|    3832.0|       3.6033|          132600.0|\n",
            "|  -117.74|   33.89|               4.0|    37937.0|        5471.0|   16122.0|    5189.0|       7.4947|          366300.0|\n",
            "|  -117.75|   34.01|               4.0|    22128.0|        3522.0|   10450.0|    3258.0|       6.1287|          289600.0|\n",
            "|  -117.78|   34.03|               8.0|    32054.0|        5290.0|   15507.0|    5050.0|       6.0191|          253900.0|\n",
            "|  -117.87|   34.04|               7.0|    27700.0|        4179.0|   15037.0|    4072.0|       6.6288|          339700.0|\n",
            "|  -117.88|   33.96|              16.0|    19059.0|        3079.0|   10988.0|    3061.0|       5.5469|          265200.0|\n",
            "|  -118.09|   34.68|               4.0|    23386.0|        4171.0|   10493.0|    3671.0|       4.0211|          144000.0|\n",
            "|   -118.1|   34.57|               7.0|    20377.0|        4335.0|   11973.0|    3933.0|       3.3086|          138100.0|\n",
            "|  -118.46|    34.4|              12.0|    25957.0|        4798.0|   10475.0|    4490.0|        4.542|          195300.0|\n",
            "|  -118.78|   34.16|               9.0|    30405.0|        4093.0|   12873.0|    3931.0|       8.0137|          399200.0|\n",
            "|   -118.9|   34.26|               5.0|    25187.0|        3521.0|   11956.0|    3478.0|       6.9712|          321300.0|\n",
            "|  -120.59|    34.7|              29.0|    17738.0|        3114.0|   12427.0|    2826.0|       2.7377|           28300.0|\n",
            "|   -121.4|   38.47|               4.0|    20982.0|        3392.0|   10329.0|    3086.0|       4.3658|          130600.0|\n",
            "|  -121.61|   36.69|              19.0|     9899.0|        2617.0|   11272.0|    2528.0|       2.0244|          118500.0|\n",
            "|  -121.68|   36.72|              12.0|    19234.0|        4492.0|   12153.0|    4372.0|       3.2652|          152800.0|\n",
            "|  -121.79|   36.64|              11.0|    32627.0|        6445.0|   28566.0|    6082.0|       2.3087|          118800.0|\n",
            "|  -121.92|   37.53|               7.0|    28258.0|        3864.0|   12203.0|    3701.0|       8.4045|          451100.0|\n",
            "+---------+--------+------------------+-----------+--------------+----------+----------+-------------+------------------+\n",
            "\n"
          ]
        }
      ]
    },
    {
      "cell_type": "code",
      "source": [
        "#filter by population  >= 10000 and households>=5000\n",
        "df_sql = spark.sql(\"SELECT * FROM california_housing_train \\\n",
        "  WHERE population >= 10000 and households>=5000 \\\n",
        "  ORDER BY housing_median_age DESC\")\n",
        "df_sql.show()"
      ],
      "metadata": {
        "id": "NGNQh5vMsYAs",
        "colab": {
          "base_uri": "https://localhost:8080/"
        },
        "outputId": "5220ca76-3bfe-4c87-d209-9d30381c1562"
      },
      "execution_count": null,
      "outputs": [
        {
          "output_type": "stream",
          "name": "stdout",
          "text": [
            "+---------+--------+------------------+-----------+--------------+----------+----------+-------------+------------------+\n",
            "|longitude|latitude|housing_median_age|total_rooms|total_bedrooms|population|households|median_income|median_house_value|\n",
            "+---------+--------+------------------+-----------+--------------+----------+----------+-------------+------------------+\n",
            "|  -121.79|   36.64|              11.0|    32627.0|        6445.0|   28566.0|    6082.0|       2.3087|          118800.0|\n",
            "|  -117.78|   34.03|               8.0|    32054.0|        5290.0|   15507.0|    5050.0|       6.0191|          253900.0|\n",
            "|  -117.74|   33.89|               4.0|    37937.0|        5471.0|   16122.0|    5189.0|       7.4947|          366300.0|\n",
            "+---------+--------+------------------+-----------+--------------+----------+----------+-------------+------------------+\n",
            "\n"
          ]
        }
      ]
    },
    {
      "cell_type": "code",
      "source": [
        "#aggregation\n",
        "df_sql = spark.sql(\"SELECT round(longitude,0) as longitude, round(latitude,0) as latitude, \\\n",
        "                    min(total_bedrooms) as min_total_bedrooms, round(avg(median_income),2) as avg_median_income, \\\n",
        "                    max(households) as max_households \\\n",
        "                    FROM california_housing_train \\\n",
        "                    WHERE longitude BETWEEN -124 AND -122 \\\n",
        "                    GROUP BY round(longitude,0), round(latitude,0) \\\n",
        "                    ORDER BY round(longitude,0), round(latitude,0)\")\n",
        "df_sql.show()"
      ],
      "metadata": {
        "colab": {
          "base_uri": "https://localhost:8080/"
        },
        "id": "RoaHwOgfX2yw",
        "outputId": "9197dd00-9ed9-4762-db56-41fe97e3ba2a"
      },
      "execution_count": null,
      "outputs": [
        {
          "output_type": "stream",
          "name": "stdout",
          "text": [
            "+---------+--------+------------------+-----------------+--------------+\n",
            "|longitude|latitude|min_total_bedrooms|avg_median_income|max_households|\n",
            "+---------+--------+------------------+-----------------+--------------+\n",
            "|   -124.0|    39.0|             151.0|             2.78|         803.0|\n",
            "|   -124.0|    40.0|             340.0|             1.78|         486.0|\n",
            "|   -124.0|    41.0|             238.0|             2.17|         414.0|\n",
            "|   -124.0|    42.0|             357.0|             3.05|         314.0|\n",
            "|   -123.0|    38.0|               1.0|             4.34|        2200.0|\n",
            "|   -123.0|    39.0|              17.0|             2.87|        1088.0|\n",
            "|   -123.0|    40.0|              28.0|             1.97|         627.0|\n",
            "|   -123.0|    41.0|              84.0|             2.34|         757.0|\n",
            "|   -123.0|    42.0|             308.0|             2.28|         869.0|\n",
            "|   -122.0|    37.0|               4.0|             5.93|        3589.0|\n",
            "|   -122.0|    38.0|               3.0|             4.11|        2952.0|\n",
            "|   -122.0|    39.0|              49.0|             3.18|         810.0|\n",
            "|   -122.0|    40.0|              77.0|             2.44|         809.0|\n",
            "|   -122.0|    41.0|              40.0|             2.56|        2267.0|\n",
            "|   -122.0|    42.0|             350.0|             2.38|         685.0|\n",
            "+---------+--------+------------------+-----------------+--------------+\n",
            "\n"
          ]
        }
      ]
    },
    {
      "cell_type": "code",
      "source": [
        "#find out duplicated longitude and latitude records\n",
        "df_sql = spark.sql(\"SELECT longitude, latitude, COUNT(*) FROM california_housing_train \\\n",
        "  GROUP BY longitude, latitude \\\n",
        "  HAVING COUNT(*) > 1 \\\n",
        "  ORDER BY longitude, latitude \\\n",
        "  \")\n",
        "df_sql.show()"
      ],
      "metadata": {
        "id": "tZ8aIv9BL5Jg",
        "colab": {
          "base_uri": "https://localhost:8080/"
        },
        "outputId": "119052e6-8147-4983-ccac-740ad53d5d4f"
      },
      "execution_count": null,
      "outputs": [
        {
          "output_type": "stream",
          "name": "stdout",
          "text": [
            "+---------+--------+--------+\n",
            "|longitude|latitude|count(1)|\n",
            "+---------+--------+--------+\n",
            "|  -124.18|   40.78|       3|\n",
            "|  -124.17|    40.8|       3|\n",
            "|  -124.16|   40.78|       3|\n",
            "|  -124.16|   40.79|       2|\n",
            "|  -124.16|    40.8|       2|\n",
            "|  -124.14|   40.59|       2|\n",
            "|  -124.13|   40.79|       2|\n",
            "|  -124.11|   40.93|       2|\n",
            "|   -124.1|    40.5|       2|\n",
            "|  -124.09|   40.88|       3|\n",
            "|  -124.07|   40.87|       2|\n",
            "|  -123.79|   39.44|       3|\n",
            "|  -123.22|   39.15|       2|\n",
            "|  -123.21|   39.15|       2|\n",
            "|  -122.92|   39.05|       2|\n",
            "|  -122.91|   39.05|       2|\n",
            "|  -122.82|   38.39|       2|\n",
            "|  -122.76|   38.44|       2|\n",
            "|  -122.75|   38.46|       2|\n",
            "|  -122.74|   38.44|       2|\n",
            "+---------+--------+--------+\n",
            "only showing top 20 rows\n",
            "\n"
          ]
        }
      ]
    },
    {
      "cell_type": "code",
      "source": [
        "# drop the view if it exists\n",
        "spark.sql(\"\"\"\n",
        "  DROP VIEW IF EXISTS longitude_latitude_dup; \n",
        "\"\"\") \n"
      ],
      "metadata": {
        "colab": {
          "base_uri": "https://localhost:8080/"
        },
        "id": "ajlFSexkhvTc",
        "outputId": "22850cb6-55c0-48b9-bcea-368a67d64e3d"
      },
      "execution_count": null,
      "outputs": [
        {
          "output_type": "execute_result",
          "data": {
            "text/plain": [
              "DataFrame[]"
            ]
          },
          "metadata": {},
          "execution_count": 63
        }
      ]
    },
    {
      "cell_type": "code",
      "source": [
        "# create another temporary view\n",
        "spark.sql(\"\"\"\n",
        "  \n",
        "  CREATE TEMPORARY VIEW longitude_latitude_dup AS \n",
        "  SELECT longitude, latitude, COUNT(*) AS record_count FROM california_housing_train \n",
        "  GROUP BY longitude, latitude \n",
        "  HAVING COUNT(*) > 1 \n",
        "  ORDER BY longitude, latitude \n",
        "\"\"\") \n"
      ],
      "metadata": {
        "colab": {
          "base_uri": "https://localhost:8080/"
        },
        "id": "HrbGUkYHm24-",
        "outputId": "0854b3a5-ba25-49fb-c4cf-6473ac5f4354"
      },
      "execution_count": null,
      "outputs": [
        {
          "output_type": "execute_result",
          "data": {
            "text/plain": [
              "DataFrame[]"
            ]
          },
          "metadata": {},
          "execution_count": 64
        }
      ]
    },
    {
      "cell_type": "code",
      "source": [
        "df_dup = spark.sql(\"SELECT * FROM longitude_latitude_dup\") \n",
        "df_dup.show()"
      ],
      "metadata": {
        "colab": {
          "base_uri": "https://localhost:8080/"
        },
        "id": "kq7mXj-MkYwq",
        "outputId": "237672df-17c9-4dab-ab80-81b1e9682fca"
      },
      "execution_count": null,
      "outputs": [
        {
          "output_type": "stream",
          "name": "stdout",
          "text": [
            "+---------+--------+--------+\n",
            "|longitude|latitude|count(1)|\n",
            "+---------+--------+--------+\n",
            "|  -124.18|   40.78|       3|\n",
            "|  -124.17|    40.8|       3|\n",
            "|  -124.16|   40.78|       3|\n",
            "|  -124.16|   40.79|       2|\n",
            "|  -124.16|    40.8|       2|\n",
            "|  -124.14|   40.59|       2|\n",
            "|  -124.13|   40.79|       2|\n",
            "|  -124.11|   40.93|       2|\n",
            "|   -124.1|    40.5|       2|\n",
            "|  -124.09|   40.88|       3|\n",
            "|  -124.07|   40.87|       2|\n",
            "|  -123.79|   39.44|       3|\n",
            "|  -123.22|   39.15|       2|\n",
            "|  -123.21|   39.15|       2|\n",
            "|  -122.92|   39.05|       2|\n",
            "|  -122.91|   39.05|       2|\n",
            "|  -122.82|   38.39|       2|\n",
            "|  -122.76|   38.44|       2|\n",
            "|  -122.75|   38.46|       2|\n",
            "|  -122.74|   38.44|       2|\n",
            "+---------+--------+--------+\n",
            "only showing top 20 rows\n",
            "\n"
          ]
        }
      ]
    },
    {
      "cell_type": "code",
      "source": [
        "# join two views\n",
        "df_join = spark.sql(\"\"\"SELECT v1.*, v2.record_count \n",
        "                     FROM california_housing_train v1 \n",
        "                     INNER JOIN longitude_latitude_dup v2 \n",
        "                     ON v1.longitude = v2.longitude\n",
        "                     AND v1.latitude = v2.latitude\n",
        "                     ORDER BY v1.longitude, v1.latitude, housing_median_age\n",
        "                     \"\"\")\n",
        "df_join.show()   "
      ],
      "metadata": {
        "colab": {
          "base_uri": "https://localhost:8080/"
        },
        "id": "SBwEhhf9kAe6",
        "outputId": "92fe8840-bb79-4f61-9100-b07596aa7e1a"
      },
      "execution_count": null,
      "outputs": [
        {
          "output_type": "stream",
          "name": "stdout",
          "text": [
            "+---------+--------+------------------+-----------+--------------+----------+----------+-------------+------------------+------------+\n",
            "|longitude|latitude|housing_median_age|total_rooms|total_bedrooms|population|households|median_income|median_house_value|record_count|\n",
            "+---------+--------+------------------+-----------+--------------+----------+----------+-------------+------------------+------------+\n",
            "|  -124.18|   40.78|              33.0|     1076.0|         222.0|     656.0|     236.0|       2.5096|           72200.0|           3|\n",
            "|  -124.18|   40.78|              34.0|     1592.0|         364.0|     950.0|     317.0|       2.1607|           67000.0|           3|\n",
            "|  -124.18|   40.78|              37.0|     1453.0|         293.0|     867.0|     310.0|       2.5536|           70200.0|           3|\n",
            "|  -124.17|    40.8|              52.0|      661.0|         316.0|     392.0|     244.0|        0.957|           60000.0|           3|\n",
            "|  -124.17|    40.8|              52.0|     1557.0|         344.0|     758.0|     319.0|       1.8529|           62500.0|           3|\n",
            "|  -124.17|    40.8|              52.0|     1606.0|         419.0|     891.0|     367.0|        1.585|           75500.0|           3|\n",
            "|  -124.16|   40.78|              43.0|     2241.0|         446.0|     932.0|     395.0|       2.9038|           82000.0|           3|\n",
            "|  -124.16|   40.78|              46.0|     1975.0|         346.0|     791.0|     349.0|          3.8|           81800.0|           3|\n",
            "|  -124.16|   40.78|              50.0|     2285.0|         403.0|     837.0|     353.0|       2.5417|           85400.0|           3|\n",
            "|  -124.16|   40.79|              52.0|     2148.0|         421.0|     975.0|     430.0|       2.2566|           92700.0|           2|\n",
            "|  -124.16|   40.79|              52.0|     1264.0|         277.0|     591.0|     284.0|       1.7778|           76900.0|           2|\n",
            "|  -124.16|    40.8|              52.0|     2416.0|         618.0|    1150.0|     571.0|       1.7308|           80500.0|           2|\n",
            "|  -124.16|    40.8|              52.0|     1703.0|         500.0|     952.0|     435.0|       1.1386|           74100.0|           2|\n",
            "|  -124.14|   40.59|              17.0|     2985.0|         610.0|    1544.0|     584.0|        2.178|           76800.0|           2|\n",
            "|  -124.14|   40.59|              22.0|     1665.0|         405.0|     826.0|     382.0|       1.5625|           66800.0|           2|\n",
            "|  -124.13|   40.79|              29.0|     2474.0|         453.0|    1130.0|     427.0|       2.8833|           83000.0|           2|\n",
            "|  -124.13|   40.79|              32.0|     2017.0|         359.0|     855.0|     346.0|       3.5833|           92800.0|           2|\n",
            "|  -124.11|   40.93|              17.0|     1661.0|         329.0|     948.0|     357.0|       2.7639|           90200.0|           2|\n",
            "|  -124.11|   40.93|              25.0|     2392.0|         474.0|    1298.0|     461.0|       3.5076|           73600.0|           2|\n",
            "|   -124.1|    40.5|              30.0|     1927.0|         393.0|     996.0|     374.0|       2.2357|           72300.0|           2|\n",
            "+---------+--------+------------------+-----------+--------------+----------+----------+-------------+------------------+------------+\n",
            "only showing top 20 rows\n",
            "\n"
          ]
        }
      ]
    },
    {
      "cell_type": "code",
      "source": [
        "# drop_duplicates will only keep the first row for each group of same longitude and latitude\n",
        "df_join.drop_duplicates(['longitude','latitude']).orderBy([\"longitude\", \"latitude\"], ascending=[1, 1]).show()"
      ],
      "metadata": {
        "colab": {
          "base_uri": "https://localhost:8080/"
        },
        "id": "gadq5N6rnZBy",
        "outputId": "0c09688f-1ee4-459d-ca00-5ddbcb814485"
      },
      "execution_count": null,
      "outputs": [
        {
          "output_type": "stream",
          "name": "stdout",
          "text": [
            "+---------+--------+------------------+-----------+--------------+----------+----------+-------------+------------------+------------+\n",
            "|longitude|latitude|housing_median_age|total_rooms|total_bedrooms|population|households|median_income|median_house_value|record_count|\n",
            "+---------+--------+------------------+-----------+--------------+----------+----------+-------------+------------------+------------+\n",
            "|  -124.18|   40.78|              33.0|     1076.0|         222.0|     656.0|     236.0|       2.5096|           72200.0|           3|\n",
            "|  -124.17|    40.8|              52.0|      661.0|         316.0|     392.0|     244.0|        0.957|           60000.0|           3|\n",
            "|  -124.16|   40.78|              43.0|     2241.0|         446.0|     932.0|     395.0|       2.9038|           82000.0|           3|\n",
            "|  -124.16|   40.79|              52.0|     2148.0|         421.0|     975.0|     430.0|       2.2566|           92700.0|           2|\n",
            "|  -124.16|    40.8|              52.0|     2416.0|         618.0|    1150.0|     571.0|       1.7308|           80500.0|           2|\n",
            "|  -124.14|   40.59|              17.0|     2985.0|         610.0|    1544.0|     584.0|        2.178|           76800.0|           2|\n",
            "|  -124.13|   40.79|              29.0|     2474.0|         453.0|    1130.0|     427.0|       2.8833|           83000.0|           2|\n",
            "|  -124.11|   40.93|              17.0|     1661.0|         329.0|     948.0|     357.0|       2.7639|           90200.0|           2|\n",
            "|   -124.1|    40.5|              30.0|     1927.0|         393.0|     996.0|     374.0|       2.2357|           72300.0|           2|\n",
            "|  -124.09|   40.88|              26.0|     2683.0|         555.0|    1353.0|     526.0|       2.4321|           82100.0|           3|\n",
            "|  -124.07|   40.87|              31.0|      334.0|         134.0|     780.0|     130.0|       0.7684|          153100.0|           2|\n",
            "|  -123.79|   39.44|              16.0|     2017.0|         423.0|    1177.0|     414.0|       3.2171|          116200.0|           3|\n",
            "|  -123.22|   39.15|              36.0|     1166.0|         216.0|     504.0|     203.0|       3.5938|          122100.0|           2|\n",
            "|  -123.21|   39.15|              31.0|     2685.0|         675.0|    1367.0|     626.0|       1.6571|          108900.0|           2|\n",
            "|  -122.92|   39.05|              16.0|     1548.0|         295.0|     605.0|     250.0|       3.5652|          119000.0|           2|\n",
            "|  -122.91|   39.05|              20.0|     1128.0|         229.0|     621.0|     210.0|       3.2216|           93500.0|           2|\n",
            "|  -122.82|   38.39|              22.0|     1288.0|         243.0|     593.0|     220.0|        3.625|          233700.0|           2|\n",
            "|  -122.76|   38.44|              11.0|     2895.0|         524.0|    1633.0|     534.0|       4.7283|          170200.0|           2|\n",
            "|  -122.75|   38.46|              13.0|     4323.0|        1020.0|    2566.0|     728.0|       3.0147|          142800.0|           2|\n",
            "|  -122.74|   38.44|              17.0|     2287.0|         497.0|    1240.0|     493.0|       3.5845|          164300.0|           2|\n",
            "+---------+--------+------------------+-----------+--------------+----------+----------+-------------+------------------+------------+\n",
            "only showing top 20 rows\n",
            "\n"
          ]
        }
      ]
    },
    {
      "cell_type": "code",
      "source": [
        ""
      ],
      "metadata": {
        "id": "vaLH2ijaoH-9"
      },
      "execution_count": null,
      "outputs": []
    }
  ]
}